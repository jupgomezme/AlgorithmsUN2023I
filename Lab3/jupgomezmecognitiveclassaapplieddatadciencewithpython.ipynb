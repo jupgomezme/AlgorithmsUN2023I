{
 "cells": [
  {
   "attachments": {},
   "cell_type": "markdown",
   "metadata": {},
   "source": [
    "<h1>LinkedIn Screenshot and Link</h1>\n",
    "<a href=\"https://www.linkedin.com/in/juan-pablo-gomez-mendez/\">Link</a>\n",
    "<br>\n",
    "<br>\n",
    "<img src=\"linkedin.jpg\" style=\"width:1000px;\"/>"
   ]
  }
 ],
 "metadata": {
  "kernelspec": {
   "display_name": "time_series_mlcourse",
   "language": "python",
   "name": "python3"
  },
  "language_info": {
   "name": "python",
   "version": "3.8.16"
  },
  "orig_nbformat": 4,
  "vscode": {
   "interpreter": {
    "hash": "dc668a3548b462c91c06672e7d34a513579f519f255bbcef502f6d651c379a80"
   }
  }
 },
 "nbformat": 4,
 "nbformat_minor": 2
}
